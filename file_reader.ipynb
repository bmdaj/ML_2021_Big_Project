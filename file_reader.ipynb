{
 "cells": [
  {
   "cell_type": "code",
   "execution_count": 24,
   "metadata": {},
   "outputs": [],
   "source": [
    "import numpy as np\n",
    "import glob\n",
    "from tqdm import tqdm\n",
    "num_bands = '5'\n",
    "num_params = 4\n",
    "num_k_points = 31"
   ]
  },
  {
   "cell_type": "markdown",
   "metadata": {},
   "source": [
    "The directory below should be changed if ran locally:"
   ]
  },
  {
   "cell_type": "code",
   "execution_count": 25,
   "metadata": {},
   "outputs": [
    {
     "name": "stderr",
     "output_type": "stream",
     "text": [
      "  6%|▌         | 192/3088 [00:00<00:01, 1919.00it/s]"
     ]
    },
    {
     "name": "stdout",
     "output_type": "stream",
     "text": [
      "Number of files in directory:  3086\n"
     ]
    },
    {
     "name": "stderr",
     "output_type": "stream",
     "text": [
      "100%|██████████| 3088/3088 [00:01<00:00, 2140.06it/s]\n"
     ]
    }
   ],
   "source": [
    "import os\n",
    "directory = \"/home/ben/Desktop/Notes/Applied ML/AppliedML2021/ML_2021_Big_Project/raw_data/\"\n",
    "num_files =  len(glob.glob1(directory,\"*.txt\"))\n",
    "\n",
    "params = np.zeros((int(num_files), int(num_params)))\n",
    "print('Number of files in directory: ',num_files)\n",
    "    \n",
    "frequencies = np.zeros((int(num_files),int(int(num_bands)*num_k_points)))\n",
    "\n",
    "index = 0\n",
    "    \n",
    "for file in tqdm(os.listdir(directory)):\n",
    "    if file.endswith(\".txt\"):\n",
    "        x = np.array((file.split(\".tx\")[0]).split(\"_\"))\n",
    "        x = np.array([e[1:] for e in x]).astype(float)\n",
    "        params [index, :] = x\n",
    "        freq = np.loadtxt(directory+file).T.flatten()\n",
    "        frequencies [index,:] = freq\n",
    "        index += 1"
   ]
  },
  {
   "cell_type": "markdown",
   "metadata": {},
   "source": [
    "As we can se we generate an array for the frequencies, whose shape is:"
   ]
  },
  {
   "cell_type": "code",
   "execution_count": 26,
   "metadata": {},
   "outputs": [
    {
     "data": {
      "text/plain": [
       "(3086, 155)"
      ]
     },
     "execution_count": 26,
     "metadata": {},
     "output_type": "execute_result"
    }
   ],
   "source": [
    "np.shape(frequencies)"
   ]
  },
  {
   "cell_type": "code",
   "execution_count": 27,
   "metadata": {},
   "outputs": [
    {
     "data": {
      "text/plain": [
       "(3086, 155)"
      ]
     },
     "execution_count": 27,
     "metadata": {},
     "output_type": "execute_result"
    }
   ],
   "source": [
    "(num_files, num_k_points*int(num_bands))"
   ]
  },
  {
   "cell_type": "markdown",
   "metadata": {},
   "source": [
    "As we can se we generate an array for the parameters, whose shape is:"
   ]
  },
  {
   "cell_type": "code",
   "execution_count": 28,
   "metadata": {},
   "outputs": [
    {
     "data": {
      "text/plain": [
       "(3086, 4)"
      ]
     },
     "execution_count": 28,
     "metadata": {},
     "output_type": "execute_result"
    }
   ],
   "source": [
    "np.shape(params)"
   ]
  },
  {
   "cell_type": "code",
   "execution_count": 29,
   "metadata": {},
   "outputs": [
    {
     "data": {
      "text/plain": [
       "(3086, 4)"
      ]
     },
     "execution_count": 29,
     "metadata": {},
     "output_type": "execute_result"
    }
   ],
   "source": [
    "(num_files,num_params)"
   ]
  },
  {
   "cell_type": "markdown",
   "metadata": {},
   "source": [
    "Now we save the bands and the parameters in .txt files:"
   ]
  },
  {
   "cell_type": "code",
   "execution_count": 30,
   "metadata": {},
   "outputs": [],
   "source": [
    "np.savetxt(\"freq_data.txt\", frequencies)\n",
    "np.savetxt(\"params_data.txt\",params)"
   ]
  }
 ],
 "metadata": {
  "kernelspec": {
   "display_name": "Python 3",
   "language": "python",
   "name": "python3"
  },
  "language_info": {
   "codemirror_mode": {
    "name": "ipython",
    "version": 3
   },
   "file_extension": ".py",
   "mimetype": "text/x-python",
   "name": "python",
   "nbconvert_exporter": "python",
   "pygments_lexer": "ipython3",
   "version": "3.8.5"
  }
 },
 "nbformat": 4,
 "nbformat_minor": 4
}

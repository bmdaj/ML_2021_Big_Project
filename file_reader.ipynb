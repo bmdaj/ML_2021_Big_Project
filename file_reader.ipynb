{
 "cells": [
  {
   "cell_type": "code",
   "execution_count": 16,
   "metadata": {},
   "outputs": [],
   "source": [
    "import numpy as np\n",
    "import glob\n",
    "from tqdm import tqdm\n",
    "num_bands = '5'\n",
    "num_params = 4\n",
    "num_k_points = 31"
   ]
  },
  {
   "cell_type": "code",
   "execution_count": 17,
   "metadata": {},
   "outputs": [
    {
     "name": "stderr",
     "output_type": "stream",
     "text": [
      "100%|██████████| 887/887 [00:00<00:00, 6623.51it/s]"
     ]
    },
    {
     "name": "stdout",
     "output_type": "stream",
     "text": [
      "Number of files in directory:  883\n"
     ]
    },
    {
     "name": "stderr",
     "output_type": "stream",
     "text": [
      "\n"
     ]
    }
   ],
   "source": [
    "import os\n",
    "directory = \"/home/ben/Desktop/Notes/Applied ML/AppliedML2021/Big Project\"\n",
    "num_files =  len(glob.glob1(directory,\"*.txt\"))\n",
    "\n",
    "params = np.zeros(int(num_files * num_params))\n",
    "print('Number of files in directory: ',num_files)\n",
    "\n",
    "for x in range(0, int(num_bands)):\n",
    "    globals()['bands%s' % x] = np.zeros(int(num_files * num_k_points))\n",
    "\n",
    "index = 0\n",
    "index1 = 0    \n",
    "    \n",
    "for file in tqdm(os.listdir(directory)):\n",
    "    if file.endswith(\".txt\"):\n",
    "        x = np.array((file.split(\".tx\")[0]).split(\"_\"))\n",
    "        x = np.array([e[1:] for e in x]).astype(float)\n",
    "        params [index:index+num_params] = x\n",
    "        index += num_params\n",
    "        f = open(file, \"r\")\n",
    "        line_counter = 0\n",
    "        for line in f:\n",
    "            y = line.split(' ')\n",
    "            for k in range(0, int(num_bands)):\n",
    "                globals()['bands%s' % k][index1+line_counter] = y[k]\n",
    "            line_counter +=  1\n",
    "        index1 += num_k_points"
   ]
  },
  {
   "cell_type": "code",
   "execution_count": 18,
   "metadata": {},
   "outputs": [
    {
     "data": {
      "text/plain": [
       "(27373,)"
      ]
     },
     "execution_count": 18,
     "metadata": {},
     "output_type": "execute_result"
    }
   ],
   "source": [
    "np.shape(bands1)"
   ]
  },
  {
   "cell_type": "code",
   "execution_count": 19,
   "metadata": {},
   "outputs": [
    {
     "data": {
      "text/plain": [
       "27373"
      ]
     },
     "execution_count": 19,
     "metadata": {},
     "output_type": "execute_result"
    }
   ],
   "source": [
    "883*31"
   ]
  },
  {
   "cell_type": "code",
   "execution_count": 20,
   "metadata": {},
   "outputs": [
    {
     "data": {
      "text/plain": [
       "(3532,)"
      ]
     },
     "execution_count": 20,
     "metadata": {},
     "output_type": "execute_result"
    }
   ],
   "source": [
    "np.shape(params)"
   ]
  },
  {
   "cell_type": "code",
   "execution_count": 21,
   "metadata": {},
   "outputs": [
    {
     "data": {
      "text/plain": [
       "3532"
      ]
     },
     "execution_count": 21,
     "metadata": {},
     "output_type": "execute_result"
    }
   ],
   "source": [
    "883*4"
   ]
  }
 ],
 "metadata": {
  "kernelspec": {
   "display_name": "Python 3",
   "language": "python",
   "name": "python3"
  },
  "language_info": {
   "codemirror_mode": {
    "name": "ipython",
    "version": 3
   },
   "file_extension": ".py",
   "mimetype": "text/x-python",
   "name": "python",
   "nbconvert_exporter": "python",
   "pygments_lexer": "ipython3",
   "version": "3.8.5"
  }
 },
 "nbformat": 4,
 "nbformat_minor": 4
}

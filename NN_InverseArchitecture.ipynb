{
 "cells": [
  {
   "cell_type": "code",
   "execution_count": 2,
   "metadata": {},
   "outputs": [],
   "source": [
    "import numpy as np\n",
    "import matplotlib as mpl\n",
    "import matplotlib.pyplot as plt\n",
    "import seaborn as sns\n",
    "import time\n",
    "%matplotlib inline\n",
    "%config InlineBackend.figure_format = 'retina'\n",
    "\n",
    "import torch\n",
    "import torch.nn as nn\n",
    "import torch.optim as optim\n",
    "import torch.nn.functional as F\n",
    "from torch.autograd import Variable\n",
    "from torch.utils.data import Dataset, DataLoader\n",
    "\n",
    "from sklearn.model_selection import train_test_split\n",
    "from sklearn.preprocessing import quantile_transform, MinMaxScaler\n",
    "from sklearn.metrics import confusion_matrix, roc_curve, auc, accuracy_score\n",
    "\n",
    "from scipy.special import expit"
   ]
  },
  {
   "cell_type": "markdown",
   "metadata": {},
   "source": [
    "## NN architecture"
   ]
  },
  {
   "cell_type": "code",
   "execution_count": 55,
   "metadata": {},
   "outputs": [],
   "source": [
    "class InverseNN(nn.Module):\n",
    "    def __init__(self, \n",
    "                 N_BLOCKS: int, \n",
    "                 N_KPOINTS: int, \n",
    "                 D_HIDDEN_BK: list, \n",
    "                 D_HIDDEN_FC: list,\n",
    "                 D_OUT: int, \n",
    "                 P_DROPOUT: None):\n",
    "        \"\"\"\n",
    "        Inverse NN, i.e. from frequencies to parameters:\n",
    "        @param N_BLOCKS: number of input blocks, i.e., # of bands\n",
    "        @param N_KPOINTS: number of K points in wach band\n",
    "        @param D_HIDDEN_BK: list with the dimensions of each hidden layer in a block (BK)\n",
    "        @param D_HIDDEN_FC: list with the dimensions of each hidden later in the FC\n",
    "        @param D_OUT: dimension of the output layer in the FC, i.e., # of parameters\n",
    "        @param P_DROPOUT: dropout probability\n",
    "        \"\"\"\n",
    "        super(InverseNN, self).__init__()\n",
    "        self.N_BLOCKS    = N_BLOCKS\n",
    "        self.N_KPOINTS   = N_KPOINTS\n",
    "        self.D_HIDDEN_BK = D_HIDDEN_BK\n",
    "        self.D_HIDDEN_FC = D_HIDDEN_FC\n",
    "        self.D_OUT       = D_OUT\n",
    "        self.P_DROPOUT   = P_DROPOUT\n",
    "        \n",
    "        # Apply dropout?\n",
    "        self.APPLY_DROPOUT = True\n",
    "        if self.P_DROPOUT == None:\n",
    "            self.APPLY_DROPOUT = False\n",
    "        \n",
    "    \n",
    "    def build_LinearBlock(self):\n",
    "        \"\"\" Builds a single input block (there is one per band). \"\"\"\n",
    "        layers = []\n",
    "        in_ = self.N_KPOINTS\n",
    "        for D_H in self.D_HIDDEN_BK:\n",
    "            layers.append(nn.Linear(in_, D_H))\n",
    "            layers.append(nn.ReLu())\n",
    "            if self.APPLY_DROPOUT: \n",
    "                layers.append(nn.Dropout(self.P_DROPOUT))\n",
    "            in_ = D_H\n",
    "\n",
    "        return nn.Sequential(*layers)\n",
    "    \n",
    "    \n",
    "    def build_FC(self):\n",
    "        \"\"\" Builds the Fully Connected bit. \"\"\"\n",
    "        layers = []\n",
    "        in_ = self.N_BLOCKS * self.D_HIDDEN_BK[-1]\n",
    "        for D_H in self.D_HIDDEN_FC:\n",
    "            layers.append(nn.Linear(in_, D_H))\n",
    "            layers.append(nn.ReLu())\n",
    "            if self.APPLY_DROPOUT: \n",
    "                layers.append(nn.Dropout(self.P_DROPOUT))\n",
    "            in_ = D_H\n",
    "            \n",
    "        layers.append(nn.Linear(in_, D_OUT))\n",
    "            \n",
    "        return nn.Sequential(*layers)\n",
    "    \n",
    "    \n",
    "    def forward_InverseSplitData(self, DATA):\n",
    "        \"\"\" \n",
    "        Apply blocks to the input data:\n",
    "        @param DATA: input data within a batch (BATCH_SIZE x N_KPOINTS)\n",
    "        \"\"\"\n",
    "        fbands = torch.split(DATA, self.N_BLOCKS, dim=1)  # Frequency bands = columns\n",
    "        assert(max(fbands[0].size()) == self.N_KPOINTS)\n",
    "        \n",
    "        outputs = []\n",
    "        for fband in fbands:\n",
    "            out_ = self.build_LinearBlock(fband)\n",
    "            out_ = out_.view(out_.size(0), -1)\n",
    "            outputs.append(out_)\n",
    "        \n",
    "        return torch.cat(outputs, dim=1)\n",
    "    \n",
    "    \n",
    "    def forward(self, DATA):\n",
    "        \"\"\" All the NN: Blocks + FC \"\"\"\n",
    "        x = self.forward_InverseSplitData(DATA)\n",
    "        x = self.build_FC(x)\n",
    "        \n",
    "        return x"
   ]
  },
  {
   "cell_type": "markdown",
   "metadata": {},
   "source": [
    "- Convert to .py"
   ]
  }
 ],
 "metadata": {
  "kernelspec": {
   "display_name": "Python 3",
   "language": "python",
   "name": "python3"
  },
  "language_info": {
   "codemirror_mode": {
    "name": "ipython",
    "version": 3
   },
   "file_extension": ".py",
   "mimetype": "text/x-python",
   "name": "python",
   "nbconvert_exporter": "python",
   "pygments_lexer": "ipython3",
   "version": "3.8.5"
  },
  "toc": {
   "base_numbering": 1,
   "nav_menu": {},
   "number_sections": false,
   "sideBar": true,
   "skip_h1_title": false,
   "title_cell": "Table of Contents",
   "title_sidebar": "Contents",
   "toc_cell": false,
   "toc_position": {},
   "toc_section_display": true,
   "toc_window_display": false
  },
  "varInspector": {
   "cols": {
    "lenName": 16,
    "lenType": 16,
    "lenVar": 40
   },
   "kernels_config": {
    "python": {
     "delete_cmd_postfix": "",
     "delete_cmd_prefix": "del ",
     "library": "var_list.py",
     "varRefreshCmd": "print(var_dic_list())"
    },
    "r": {
     "delete_cmd_postfix": ") ",
     "delete_cmd_prefix": "rm(",
     "library": "var_list.r",
     "varRefreshCmd": "cat(var_dic_list()) "
    }
   },
   "types_to_exclude": [
    "module",
    "function",
    "builtin_function_or_method",
    "instance",
    "_Feature"
   ],
   "window_display": false
  }
 },
 "nbformat": 4,
 "nbformat_minor": 4
}

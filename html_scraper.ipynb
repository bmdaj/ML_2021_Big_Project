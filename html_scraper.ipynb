{
 "cells": [
  {
   "cell_type": "code",
   "execution_count": 11,
   "metadata": {},
   "outputs": [],
   "source": [
    "import paramiko\n",
    "import numpy as np\n",
    "\n",
    "paramiko.util.log_to_file(\"paramiko.log\")\n",
    "\n",
    "# Open a transport\n",
    "host,port = \"io.erda.dk\",22\n",
    "transport = paramiko.Transport((host,port))\n",
    "\n",
    "# Auth    \n",
    "username,password = \"LPhaxB7uEx\",\"LPhaxB7uEx\"\n",
    "transport.connect(None,username,password)\n",
    "\n",
    "# Go!    \n",
    "sftp = paramiko.SFTPClient.from_transport(transport)\n",
    "\n",
    "# Get list of files\n",
    "files = sftp.listdir()\n",
    "\n",
    "# Ope the i'th file as a binary string and cast it to regular string\n",
    "data_string = sftp.open(files[0]).read().decode('utf-8')\n",
    "\n",
    "# Cast this string to a numpy array\n",
    "data = np.array([np.array(i.split(' ')).astype('float') for i in data_string.split('\\n')[:-1]])"
   ]
  },
  {
   "cell_type": "code",
   "execution_count": 12,
   "metadata": {},
   "outputs": [
    {
     "data": {
      "text/plain": [
       "(31, 5)"
      ]
     },
     "execution_count": 12,
     "metadata": {},
     "output_type": "execute_result"
    }
   ],
   "source": [
    "np.shape(data)"
   ]
  },
  {
   "cell_type": "code",
   "execution_count": 13,
   "metadata": {},
   "outputs": [
    {
     "name": "stderr",
     "output_type": "stream",
     "text": [
      "100%|██████████| 883/883 [01:06<00:00, 13.35it/s]\n"
     ]
    }
   ],
   "source": [
    "from tqdm import tqdm\n",
    "for file in tqdm(files):\n",
    "    data_string = sftp.open(files[0]).read().decode('utf-8')\n",
    "    data = np.array([np.array(i.split(' ')).astype('float') for i in data_string.split('\\n')[:-1]]).transpose()\n",
    "    np.savetxt(file,data)"
   ]
  }
 ],
 "metadata": {
  "kernelspec": {
   "display_name": "Python 3",
   "language": "python",
   "name": "python3"
  },
  "language_info": {
   "codemirror_mode": {
    "name": "ipython",
    "version": 3
   },
   "file_extension": ".py",
   "mimetype": "text/x-python",
   "name": "python",
   "nbconvert_exporter": "python",
   "pygments_lexer": "ipython3",
   "version": "3.8.5"
  }
 },
 "nbformat": 4,
 "nbformat_minor": 4
}
